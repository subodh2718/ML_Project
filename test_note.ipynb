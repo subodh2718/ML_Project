{
 "cells": [
  {
   "cell_type": "code",
   "execution_count": null,
   "metadata": {},
   "outputs": [],
   "source": [
    "import numpy as np\n",
    "import matplotlib\n",
    "matplotlib.use('Agg')\n",
    "import matplotlib.pyplot as plt\n",
    "from matplotlib.animation import FuncAnimation\n",
    "from PIL import Image\n",
    "\n",
    "def spirograph(R, r, d):\n",
    "    t = np.linspace(0, 2 * np.pi, 1000)\n",
    "    x = (R - r) * np.cos(t) + d * np.cos((R - r) * t / r)\n",
    "    y = (R - r) * np.sin(t) - d * np.sin((R - r) * t / r)\n",
    "    return x, y\n",
    "\n",
    "R = 5\n",
    "r = 1\n",
    "d = 3\n",
    "\n",
    "fig, ax = plt.subplots()\n",
    "line, = ax.plot([], [], lw=2)\n",
    "\n",
    "def init():\n",
    "    line.set_data([], [])\n",
    "    return line,\n",
    "\n",
    "def update(frame):\n",
    "    x, y = spirograph(R, r, d)\n",
    "    line.set_data(x[:frame], y[:frame])\n",
    "    return line,\n",
    "\n",
    "animation = FuncAnimation(fig, update, frames=100, init_func=init, blit=True)\n",
    "\n",
    "# Convert each frame of the animation to an image\n",
    "frames = []\n",
    "for i in range(100):\n",
    "    animation._draw_frame(i)\n",
    "    buf = fig.canvas.tostring_rgb()\n",
    "    ncols, nrows = fig.canvas.get_width_height()\n",
    "    img = Image.frombytes(\"RGB\", (ncols, nrows), buf, \"raw\", \"RGB\")\n",
    "    frames.append(img)\n",
    "\n",
    "# Save the frames as a GIF using Pillow\n",
    "frames[0].save('spirograph.gif', format='GIF', append_images=frames[1:], save_all=True, duration=100, loop=0)\n",
    "\n",
    "# Display the GIF in the notebook\n",
    "from IPython.display import Image\n",
    "Image(filename='spirograph.gif')\n"
   ]
  }
 ],
 "metadata": {
  "kernelspec": {
   "display_name": "Python 3",
   "language": "python",
   "name": "python3"
  },
  "language_info": {
   "name": "python",
   "version": "3.8.16"
  },
  "orig_nbformat": 4
 },
 "nbformat": 4,
 "nbformat_minor": 2
}
